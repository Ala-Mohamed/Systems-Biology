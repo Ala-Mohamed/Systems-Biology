{
  "nbformat": 4,
  "nbformat_minor": 0,
  "metadata": {
    "colab": {
      "provenance": [],
      "include_colab_link": true
    },
    "kernelspec": {
      "name": "python3",
      "display_name": "Python 3"
    },
    "language_info": {
      "name": "python"
    }
  },
  "cells": [
    {
      "cell_type": "markdown",
      "metadata": {
        "id": "view-in-github",
        "colab_type": "text"
      },
      "source": [
        "<a href=\"https://colab.research.google.com/github/Ala-Mohamed/Systems-Biology/blob/main/sys_bio_project.ipynb\" target=\"_parent\"><img src=\"https://colab.research.google.com/assets/colab-badge.svg\" alt=\"Open In Colab\"/></a>"
      ]
    },
    {
      "cell_type": "code",
      "source": [
        "import numpy as np\n",
        "from scipy.integrate import odeint\n",
        "import matplotlib.pyplot as plt"
      ],
      "metadata": {
        "id": "Li0d6zetG8T9"
      },
      "execution_count": null,
      "outputs": []
    },
    {
      "cell_type": "markdown",
      "source": [
        "**AND**"
      ],
      "metadata": {
        "id": "dTwg6S0IP_j2"
      }
    },
    {
      "cell_type": "code",
      "source": [],
      "metadata": {
        "id": "vqvFQ0jEQLmu"
      },
      "execution_count": null,
      "outputs": []
    },
    {
      "cell_type": "markdown",
      "source": [
        "**OR**\n",
        "\n",
        "AD + DBD ⇌ AD_DBD\n",
        "\n",
        "AD + DBD + I1 ⇌ AD-I1-DBD\n",
        "\n",
        "AD + DBD + I2 ⇌ AD-I2-DBD\n",
        "\n",
        "AD + DBD + I1 + I2 ⇌ DBD-L-AD-L-DBD\n",
        "\n",
        "I1=1'-7\n",
        "\n",
        "I2=6'-7\n",
        "\n"
      ],
      "metadata": {
        "id": "mY3D2bDQQMSc"
      }
    },
    {
      "cell_type": "code",
      "source": [
        "# Reaction 1: AD + DBD ⇌ AD_DBD\n",
        "def reaction1(y, t, k1f, k1r):\n",
        "  AD, DBD, AD_DBD = y\n",
        "  dADdt = -k1f * AD * DBD + k1r * AD_DBD\n",
        "  dDBDdt = -k1f * AD * DBD + k1r * AD_DBD\n",
        "  dAD_DBDdt = k1f * AD * DBD - k1r * AD_DBD\n",
        "  return [dADdt, dDBDdt, dAD_DBDdt]\n",
        "\n",
        "# Reaction 2: AD + DBD + I1 ⇌ AD-L-DBD\n",
        "def reaction2(y, t, k2f, k2r):\n",
        "  AD, DBD, I1, AD_L_DBD = y\n",
        "  dADdt = -k1f * AD * DBD*I1 + k1r * AD_L_DBD\n",
        "  dDBDdt = -k1f * AD * DBD*I1 + k1r * AD_L_DBD\n",
        "  dI1dt = -k1f * AD * DBD*I1 + k1r * AD_L_DBD\n",
        "  dDAD_L_DBDdt = k1f * AD * DBD*I1 - k1r * AD_L_DBD\n",
        "  return [dADdt, dDBDdt, dI1dt, dDAD_L_DBDdt]\n",
        "\n",
        "# Reaction 3: AD + DBD + I2 ⇌ AD-L-DBD\n",
        "def reaction3(y, t, k3f, k3r):\n",
        "  AD, DBD, I2, AD_L_DBD = y\n",
        "  dADdt = -k3f * AD * DBD * I2 + k3r * AD_L_DBD\n",
        "  dDBDdt = -k3f * AD * DBD * I2 + k3r * AD_L_DBD\n",
        "  dI2dt = -k3f * AD * DBD * I2 + k3r * AD_L_DBD\n",
        "  dAD_L_DBDdt = k3f * AD * DBD * I2 - k3r * AD_L_DBD\n",
        "  return [dADdt, dDBDdt, dI2dt, dAD_L_DBDdt]\n",
        "\n",
        "# Reaction 4:AD + DBD + I1 + I2 ⇌ DBD-L-AD-L-DBD\n",
        "def reaction4(y, t, k4f, k4r):\n",
        "    AD, DBD, I1, I2, DBD-L-AD-L-DBD = y\n",
        "    dADdt = -k4f * AD * DBD * I1 * I2 + k4r * DBD-L-AD-L-DBD\n",
        "    dDBDdt = -k4f * AD * DBD * I1 * I2 + k4r * DBD-L-AD-L-DBD\n",
        "    dI1dt = -k4f * AD * DBD * I1 * I2 + k4r * DBD-L-AD-L-DBD\n",
        "    dI2dt = -k4f * AD * DBD * I1 * I2 + k4r * DBD-L-AD-L-DBD\n",
        "    dDBD-L-AD-L-DBDdt = k4f * AD * DBD * I1 * I2 - k4r * DBD-L-AD-L-DBD\n",
        "    return [dADdt, dDBDdt, dI1dt, dI2dt, dDBD-L-AD-L-DBDdt]\n"
      ],
      "metadata": {
        "id": "arc6hiuqQPAd"
      },
      "execution_count": null,
      "outputs": []
    },
    {
      "cell_type": "markdown",
      "source": [
        "**NOT**"
      ],
      "metadata": {
        "id": "_olQXHXbGSAK"
      }
    },
    {
      "cell_type": "markdown",
      "source": [
        "AD + DBD ⇌ AD_DBD\n",
        "\n",
        "AD + DBD + 2I ⇌ ADI + DBDI"
      ],
      "metadata": {
        "id": "U6-aUJ4EGVss"
      }
    },
    {
      "cell_type": "code",
      "source": [
        "\n",
        "\n",
        "# Reaction 1: AD + DBD ⇌ AD_DBD\n",
        "def reaction1(y, t, k_f1, k_r1):\n",
        "\n",
        "    AD, DBD, AD_DBD = y\n",
        "    dADdt = -k_f1 * AD * DBD + k_r1 * AD_DBD\n",
        "    dDBDdt = -k_f1 * AD * DBD + k_r1 * AD_DBD\n",
        "    dAD_DBDdt = k_f1 * AD * DBD - k_r1 * AD_DBD\n",
        "    return [dADdt, dDBDdt, dAD_DBDdt]\n",
        "\n",
        "\n",
        "# Reaction 2: AD + DBD + 2I ⇌ ADI + DBDI\n",
        "def reaction2(y, t, k_f2, k_r2):\n",
        "    AD, DBD, I, ADI, DBDI = y\n",
        "\n",
        "    dADdt = -k_f2 * AD * DBD * I**2 + k_r2 * ADI * DBDI\n",
        "    dDBDdt = -k_f2 * AD * DBD * I**2 + k_r2 * ADI * DBDI\n",
        "    dIdt = -2 * k_f2 * AD * DBD * I**2 + 2 * k_r2 * ADI * DBDI\n",
        "    dADIdt = k_f2 * AD * DBD * I**2 - k_r2 * ADI * DBDI\n",
        "    dDBDIdt = k_f2 * AD * DBD * I**2 - k_r2 * ADI * DBDI\n",
        "    return [dADdt, dDBDdt, dIdt, dADIdt, dDBDIdt]\n"
      ],
      "metadata": {
        "id": "QFvTB8NHGRfR"
      },
      "execution_count": null,
      "outputs": []
    },
    {
      "cell_type": "markdown",
      "source": [
        "**NOR**"
      ],
      "metadata": {
        "id": "ZHhcxoI9QRdf"
      }
    },
    {
      "cell_type": "code",
      "source": [],
      "metadata": {
        "id": "eSOxlf-qQUbX"
      },
      "execution_count": null,
      "outputs": []
    },
    {
      "cell_type": "markdown",
      "source": [
        "**XNOR**"
      ],
      "metadata": {
        "id": "DUHWBZymQU4W"
      }
    },
    {
      "cell_type": "markdown",
      "source": [
        "AD + DBD  ⇌ AD_DBD\n",
        "\n",
        "AD + DBD + I1 ⇌ AD + DBD_I1\n",
        "\n",
        "AD + DBD + I2 ⇌ AD_I2 + DBD\n",
        "\n",
        "AD + DBD + I1 + I2 ⇌ AD_DBD + I1_I2"
      ],
      "metadata": {
        "id": "82JkpK-n9ceu"
      }
    },
    {
      "cell_type": "code",
      "source": [
        "# Reaction 1: AD + DBD ⇌ AD_DBD\n",
        "def reaction1(y, t, k1f, k1r, k2f):\n",
        "  AD, DBD, AD_DBD = y\n",
        "  dADdt = -k1f * AD * DBD + k1r * AD_DBD\n",
        "  dDBDdt = -k1f * AD * DBD + k1r * AD_DBD\n",
        "  dAD_DBDdt = k1f * AD * DBD - k1r * AD_DBD\n",
        "  return [dADdt, dDBDdt, dAD_DBDdt]\n",
        "\n",
        "# Reaction 2: AD + DBD + I1 ⇌ AD + DBD_I1\n",
        "def reaction2(y, t, k2f, k2r):\n",
        "  AD, DBD, I1, DBD_I1 = y\n",
        " # dAD_DBDdt = k2f * AD_DBD - k2r * AD_DBD_I1\n",
        "  dDBDdt = -k2f * AD * DBD * I1 + k2r * AD * DBD_I1\n",
        "  dI1dt = -k2f * AD * DBD * I1 + k2r * AD * DBD_I1\n",
        "  dDBD_I1dt = k2f * AD * DBD * I1 - k2r * AD * DBD_I1\n",
        "  return [dDBDdt, dI1dt, dDBD_I1dt]\n",
        "\n",
        "# Reaction 3: AD + DBD + I2 ⇌ AD_I2 + DBD\n",
        "def reaction3(y, t, k3f, k3r):\n",
        "  AD, DBD, I2, AD_I2 = y\n",
        "  dADdt = -k3f * AD * DBD * I2 + k3r * AD_I2 * DBD\n",
        "  #dDBDdt = -k3f * AD * DBD * I2 + k3r * AD_I2 * DBD\n",
        "  dI2dt = -k3f * AD * DBD * I2 + k3r * AD_I2 * DBD\n",
        "  dAD_I2dt = k3f * AD * DBD * I2 - k3r * AD_I2 * DBD\n",
        "  return [dADdt, dI2dt, dAD_I2dt]\n",
        "\n",
        "# Reaction 4: AD + DBD + I1 + I2 ⇌ AD_DBD + I1_I2\n",
        "def reaction4(y, t, k4f, k4r):\n",
        "    AD, DBD, I1, I2, AD_DBD, I1_I2 = y\n",
        "    dADdt = -k4f * AD * DBD * I1 * I2 + k4r * AD_DBD * I1_I2\n",
        "    dDBDdt = -k4f * AD * DBD * I1 * I2 + k4r * AD_DBD * I1_I2\n",
        "    dI1dt = -k4f * AD * DBD * I1 * I2 + k4r * AD_DBD * I1_I2\n",
        "    dI2dt = -k4f * AD * DBD * I1 * I2 + k4r * AD_DBD * I1_I2\n",
        "    dAD_DBDdt = k4f * AD * DBD * I1 * I2 - k4r * AD_DBD * I1_I2\n",
        "    dI1_I2dt = k4f * AD * DBD * I1 * I2 - k4r * AD_DBD * I1_I2\n",
        "    return [dADdt, dDBDdt, dI1dt, dI2dt, dAD_DBDdt, dI1_I2dt]\n",
        "\n"
      ],
      "metadata": {
        "id": "xW5UbLxg9aSP"
      },
      "execution_count": null,
      "outputs": []
    },
    {
      "cell_type": "markdown",
      "source": [
        "**NAND**"
      ],
      "metadata": {
        "id": "6nfiea_MQfEN"
      }
    },
    {
      "cell_type": "code",
      "source": [],
      "metadata": {
        "id": "D590AZ1hK61a"
      },
      "execution_count": null,
      "outputs": []
    },
    {
      "cell_type": "markdown",
      "source": [
        "**3-in AND**"
      ],
      "metadata": {
        "id": "xGxCRTXYJyT6"
      }
    },
    {
      "cell_type": "code",
      "source": [],
      "metadata": {
        "id": "lgOwlt8uQYBZ"
      },
      "execution_count": null,
      "outputs": []
    },
    {
      "cell_type": "markdown",
      "source": [
        "**3-in OR**\n",
        "\n",
        "AD + DBD ⇌ AD_DBD (-,-,-)\n",
        "\n",
        "AD + DBD + A ⇌ AD_L_DBD (+,-,-)\n",
        "\n",
        "AD + DBD + B ⇌ AD_L_DBD (-,+,-)\n",
        "\n",
        "AD + DBD + C ⇌ AD_L_DBD (-,-,+)\n",
        "\n",
        "AD + DBD + A+B ⇌ AD_L_DBD (+,+,-)\n",
        "\n",
        "AD + DBD + A + C ⇌ AD_L_DBD (+,-,+)\n",
        "\n",
        "AD + DBD + B + C ⇌ AD_L_DBD (-,+,+)\n",
        "\n",
        "AD + DBD + A+B + C ⇌ AD_L_DBD (+,+,+)\n",
        "\n",
        "A=11-1'         \n",
        "B=11-6'        \n",
        "C=11-7'"
      ],
      "metadata": {
        "id": "X6GttiaUJ4Rl"
      }
    },
    {
      "cell_type": "code",
      "source": [
        "\n",
        "# Reaction 1: AD + DBD ⇌ AD_DBD\n",
        "def reaction_1(y, t, k1f, k1r):\n",
        "    AD, DBD, AD_DBD = y\n",
        "    dADdt = -k1f * AD * DBD + k1r * AD_DBD\n",
        "    dDBDdt = -k1f * AD * DBD + k1r * AD_DBD\n",
        "    dAD_DBDdt = k1f * AD * DBD - k1r * AD_DBD\n",
        "    return [dADdt, dDBDdt, dAD_DBDdt]\n",
        "\n",
        "# Reaction 2: AD + DBD + A ⇌ AD_L_DBD\n",
        "def reaction_2(y, t, k2f, k2r):\n",
        "    AD, DBD, A, AD_L_DBD = y\n",
        "    dADdt = -k2f * AD * DBD * A + k2r * AD_A_DBD\n",
        "    dDBDdt = -k2f * AD * DBD * A + k2r * AD_A_DBD\n",
        "    dAdt = -k2f * AD * DBD * A + k2r * AD_A_DBD\n",
        "    dAD_L_DBDdt = k2f * AD * DBD * A - k2r * AD_A_DBD\n",
        "    return [dADdt, dDBDdt, dAdt, dAD_L_DBDdt]\n",
        "\n",
        "# Reaction 3: AD + DBD + B ⇌ AD_L_DBD\n",
        "def reaction_3(y, t, k3f, k3r):\n",
        "\n",
        "    AD, DBD, B, AD_L_DBD = y\n",
        "    dADdt = -k3f * AD * DBD * B + k3r * AD_B_DBD\n",
        "    dDBDdt = -k3f * AD * DBD * B + k3r * AD_B_DBD\n",
        "    dBdt = -k3f * AD * DBD * B + k3r * AD_B_DBD\n",
        "    dAD_L_DBDdt = k3r * AD * DBD * B - k3r * AD_B_DBD\n",
        "    return [dADdt, dDBDdt, dBdt, dAD_L_DBDdt]\n",
        "\n",
        "# Reaction 4: AD + DBD + C ⇌ AD_C_DBD\n",
        "def reaction_4(y, t, k_f4, k_r4):\n",
        "\n",
        "    AD, DBD, C, AD_L_DBD = y\n",
        "    dADdt = -k_f4 * AD * DBD * D + k_r4 * AD_D_DBD\n",
        "    dDBDdt = -k_f4 * AD * DBD * D + k_r4 * AD_D_DBD\n",
        "    dCdt = -k_f4 * AD * DBD * D + k_r4 * AD_D_DBD\n",
        "    dAD_L_DBDdt = k_f4 * AD * DBD * D - k_r4 * AD_D_DBD\n",
        "    return [dADdt, dDBDdt, dCdt, dAD_L_DBDdt]\n",
        "\n",
        "# Reaction 5: AD + DBD + A+B ⇌ AD_L_DBD\n",
        "def reaction_5(y, t, k_f5, k_r5):\n",
        "    AD, DBD, A , B, AD_L_DBD = y\n",
        "    dADdt = -k_f5 * AD * DBD * A_B + k_r5 * AD_A_B_DBD\n",
        "    dDBDdt = -k_f5 * AD * DBD * A_B + k_r5 * AD_A_B_DBD\n",
        "    dAdt = -k_f5 * AD * DBD * A_B + k_r5 * AD_A_B_DBD\n",
        "    dBdt = -k_f5 * AD * DBD * A_B + k_r5 * AD_A_B_DBD\n",
        "    dAD_L_DBDdt = k_f5 * AD * DBD * A_B - k_r5 * AD_A_B_DBD\n",
        "    return [dADdt, dDBDdt, dAdt, dBdt, dAD_L_DBDdt]\n",
        "\n",
        "# Reaction 6: AD + DBD + A + C ⇌ AD_L_DBD\n",
        "def reaction_6(y, t, k_f6, k_r6):\n",
        "\n",
        "    AD, DBD, A, C, AD_L_DBD = y\n",
        "    dADdt = -k_f6 * AD * DBD * A * D + k_r6 * AD_A_D_DBD\n",
        "    dDBDdt = -k_f6 * AD * DBD * A * D + k_r6 * AD_A_D_DBD\n",
        "    dAdt = -k_f6 * AD * DBD * A * D + k_r6 * AD_A_D_DBD\n",
        "    dCdt = -k_f6 * AD * DBD * A * D + k_r6 * AD_A_D_DBD\n",
        "    dAD_L_DBDdt = k_f6 * AD * DBD * A * D - k_r6 * AD_A_D_DBD\n",
        "    return [dADdt, dDBDdt, dAdt, dCdt, dAD_L_DBDdt]\n",
        "\n",
        "# Reaction 7: AD + DBD + B + C ⇌ AD_L_DBD\n",
        "def reaction_7(y, t, k_f7, k_r7):\n",
        "    AD, DBD, B, C, AD_L_DBD = y\n",
        "    dADdt = -k_f7 * AD * DBD * B * D + k_r7 * AD_B_D_DBD\n",
        "    dDBDdt = -k_f7 * AD * DBD * B * D + k_r7 * AD_B_D_DBD\n",
        "    dBdt = -k_f7 * AD * DBD * B * D + k_r7 * AD_B_D_DBD\n",
        "    dCdt = -k_f7 * AD * DBD * B * D + k_r7 * AD_B_D_DBD\n",
        "    dAD_L_DBDdt = k_f7 * AD * DBD * B * D - k_r7 * AD_B_D_DBD\n",
        "    return [dADdt, dDBDdt, dBdt, dCdt, dAD_L_DBDdt]\n",
        "\n",
        "# Reaction 8: AD + DBD + A+ B + D ⇌ AD_L_DBD\n",
        "def reaction_8(y, t, k_f8, k_r8):\n",
        "    AD, DBD, A ,B, C, AD_L_DBD = y\n",
        "    dADdt = -k_f8 * AD * DBD * A_B * D + k_r8 * AD_A_B_D_DBD\n",
        "    dDBDdt = -k_f8 * AD * DBD * A_B * D + k_r8 * AD_A_B_D_DBD\n",
        "    dAdt = -k_f8 * AD * DBD * A_B * D + k_r8 * AD_A_B_D_DBD\n",
        "    dBdt = -k_f8 * AD * DBD * A_B * D + k_r8 * AD_A_B_D_DBD\n",
        "    dCdt = -k_f8 * AD * DBD * A_B * D + k_r8 * AD_A_B_D_DBD\n",
        "    dAD_L_DBDdt = k_f8 * AD * DBD * A_B * D - k_r8 * AD_A_B_D_DBD\n",
        "    return [dADdt, dDBDdt, dAdt, dBdt,dCdt, dAD_L_DBDdt]\n"
      ],
      "metadata": {
        "id": "wLneAaD_J_vW"
      },
      "execution_count": null,
      "outputs": []
    },
    {
      "cell_type": "markdown",
      "source": [
        "**DNF**"
      ],
      "metadata": {
        "id": "3kjyB1OTQYhT"
      }
    },
    {
      "cell_type": "markdown",
      "source": [
        "AD + DBD ⇌ AD_DBD (-,-,-)\n",
        "\n",
        "AD + DBD + A ⇌ AD_A_DBD (+,-,-)\n",
        "\n",
        "AD + DBD + B ⇌ AD_B_DBD (-,+,-)\n",
        "\n",
        "AD + DBD + D ⇌ AD_D_DBD (-,-,+)\n",
        "\n",
        "AD + DBD + A_B ⇌ AD_A_B_DBD (+,+,-)\n",
        "\n",
        "AD + DBD + A + D ⇌ AD_A_D_DBD (+,-,+)\n",
        "\n",
        "AD + DBD + B + D ⇌ AD_B_D_DBD (-,+,+)\n",
        "\n",
        "AD + DBD + A_B + D ⇌ AD_A_B_D_DBD (+,+,+)\n",
        "\n"
      ],
      "metadata": {
        "id": "7VvxTumsGz2-"
      }
    },
    {
      "cell_type": "code",
      "source": [
        "\n",
        "# Reaction 1: AD + DBD ⇌ AD_DBD\n",
        "def reaction_1(y, t, k1f, k1r):\n",
        "    AD, DBD, AD_DBD = y\n",
        "    dADdt = -k1f * AD * DBD + k1r * AD_DBD\n",
        "    dDBDdt = -k1f * AD * DBD + k1r * AD_DBD\n",
        "    dAD_DBDdt = k1f * AD * DBD - k1r * AD_DBD\n",
        "    return [dADdt, dDBDdt, dAD_DBDdt]\n",
        "\n",
        "# Reaction 2: AD + DBD + A ⇌ AD_A_DBD\n",
        "def reaction_2(y, t, k2f, k2r):\n",
        "\n",
        "    AD, DBD, A, AD_A_DBD = y\n",
        "    dADdt = -k2f * AD * DBD * A + k2r * AD_A_DBD\n",
        "    dDBDdt = -k2f * AD * DBD * A + k2r * AD_A_DBD\n",
        "    dAdt = -k2f * AD * DBD * A + k2r * AD_A_DBD\n",
        "    dAD_A_DBDdt = k2f * AD * DBD * A - k2r * AD_A_DBD\n",
        "    return [dADdt, dDBDdt, dAdt, dAD_A_DBDdt]\n",
        "\n",
        "# Reaction 3: AD + DBD + B ⇌ AD_B_DBD\n",
        "def reaction_3(y, t, k3f, k3r):\n",
        "\n",
        "    AD, DBD, B, AD_B_DBD = y\n",
        "    dADdt = -k3f * AD * DBD * B + k3r * AD_B_DBD\n",
        "    dDBDdt = -k3f * AD * DBD * B + k3r * AD_B_DBD\n",
        "    dBdt = -k3f * AD * DBD * B + k3r * AD_B_DBD\n",
        "    dAD_B_DBDdt = k3r * AD * DBD * B - k3r * AD_B_DBD\n",
        "    return [dADdt, dDBDdt, dBdt, dAD_B_DBDdt]\n",
        "\n",
        "# Reaction 4: AD + DBD + D ⇌ AD_D_DBD\n",
        "def reaction_4(y, t, k_f4, k_r4):\n",
        "\n",
        "    AD, DBD, D, AD_D_DBD = y\n",
        "    dADdt = -k_f4 * AD * DBD * D + k_r4 * AD_D_DBD\n",
        "    dDBDdt = -k_f4 * AD * DBD * D + k_r4 * AD_D_DBD\n",
        "    dDdt = -k_f4 * AD * DBD * D + k_r4 * AD_D_DBD\n",
        "    dAD_D_DBDdt = k_f4 * AD * DBD * D - k_r4 * AD_D_DBD\n",
        "    return [dADdt, dDBDdt, dDdt, dAD_D_DBDdt]\n",
        "\n",
        "# Reaction 5: AD + DBD + A_B ⇌ AD_A_B_DBD\n",
        "def reaction_5(y, t, k_f5, k_r5):\n",
        "\n",
        "    AD, DBD, A_B, AD_A_B_DBD = y\n",
        "    dADdt = -k_f5 * AD * DBD * A_B + k_r5 * AD_A_B_DBD\n",
        "    dDBDdt = -k_f5 * AD * DBD * A_B + k_r5 * AD_A_B_DBD\n",
        "    dA_Bdt = -k_f5 * AD * DBD * A_B + k_r5 * AD_A_B_DBD\n",
        "    dAD_A_B_DBDdt = k_f5 * AD * DBD * A_B - k_r5 * AD_A_B_DBD\n",
        "    return [dADdt, dDBDdt, dA_Bdt, dAD_A_B_DBDdt]\n",
        "\n",
        "# Reaction 6: AD + DBD + A + D ⇌ AD_A_D_DBD\n",
        "def reaction_6(y, t, k_f6, k_r6):\n",
        "\n",
        "    AD, DBD, A, D, AD_A_D_DBD = y\n",
        "    dADdt = -k_f6 * AD * DBD * A * D + k_r6 * AD_A_D_DBD\n",
        "    dDBDdt = -k_f6 * AD * DBD * A * D + k_r6 * AD_A_D_DBD\n",
        "    dAdt = -k_f6 * AD * DBD * A * D + k_r6 * AD_A_D_DBD\n",
        "    dDdt = -k_f6 * AD * DBD * A * D + k_r6 * AD_A_D_DBD\n",
        "    dAD_A_D_DBDdt = k_f6 * AD * DBD * A * D - k_r6 * AD_A_D_DBD\n",
        "    return [dADdt, dDBDdt, dAdt, dDdt, dAD_A_D_DBDdt]\n",
        "\n",
        "# Reaction 7: AD + DBD + B + D ⇌ AD_B_D_DBD\n",
        "def reaction_7(y, t, k_f7, k_r7):\n",
        "\n",
        "    AD, DBD, B, D, AD_B_D_DBD = y\n",
        "    dADdt = -k_f7 * AD * DBD * B * D + k_r7 * AD_B_D_DBD\n",
        "    dDBDdt = -k_f7 * AD * DBD * B * D + k_r7 * AD_B_D_DBD\n",
        "    dBdt = -k_f7 * AD * DBD * B * D + k_r7 * AD_B_D_DBD\n",
        "    dDdt = -k_f7 * AD * DBD * B * D + k_r7 * AD_B_D_DBD\n",
        "    dAD_B_D_DBDdt = k_f7 * AD * DBD * B * D - k_r7 * AD_B_D_DBD\n",
        "    return [dADdt, dDBDdt, dBdt, dDdt, dAD_B_D_DBDdt]\n",
        "\n",
        "# Reaction 8: AD + DBD + A_B + D ⇌ AD_A_B_D_DBD\n",
        "def reaction_8(y, t, k_f8, k_r8):\n",
        "\n",
        "    AD, DBD, A_B, D, AD_A_B_D_DBD = y\n",
        "    dADdt = -k_f8 * AD * DBD * A_B * D + k_r8 * AD_A_B_D_DBD\n",
        "    dDBDdt = -k_f8 * AD * DBD * A_B * D + k_r8 * AD_A_B_D_DBD\n",
        "    dA_Bdt = -k_f8 * AD * DBD * A_B * D + k_r8 * AD_A_B_D_DBD\n",
        "    dDdt = -k_f8 * AD * DBD * A_B * D + k_r8 * AD_A_B_D_DBD\n",
        "    dAD_A_B_D_DBDdt = k_f8 * AD * DBD * A_B * D - k_r8 * AD_A_B_D_DBD\n",
        "    return [dADdt, dDBDdt, dA_Bdt, dDdt, dAD_A_B_D_DBDdt]\n"
      ],
      "metadata": {
        "id": "8WyEecm6bMAZ"
      },
      "execution_count": null,
      "outputs": []
    },
    {
      "cell_type": "code",
      "source": [],
      "metadata": {
        "id": "j2BJav2VQi--"
      },
      "execution_count": null,
      "outputs": []
    }
  ]
}